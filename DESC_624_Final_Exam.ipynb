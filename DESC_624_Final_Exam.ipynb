{
  "nbformat": 4,
  "nbformat_minor": 0,
  "metadata": {
    "colab": {
      "name": "DESC 624 Final Exam.ipynb",
      "provenance": []
    },
    "kernelspec": {
      "name": "python3",
      "display_name": "Python 3"
    }
  },
  "cells": [
    {
      "cell_type": "markdown",
      "metadata": {
        "id": "BbD3CO0-Cbd3"
      },
      "source": [
        "With what information does Bayes Theorem update our previous knowledge about the data parameters?"
      ]
    },
    {
      "cell_type": "markdown",
      "metadata": {
        "id": "w5RvhnyGCgDL"
      },
      "source": [
        "What does the prior probability represent?"
      ]
    },
    {
      "cell_type": "markdown",
      "metadata": {
        "id": "9qwk8q9oDBTV"
      },
      "source": [
        "For the following exercises, work with the wine_flag_training and wine_flag_test data sets. Use either Python to solve each problem.\n",
        "Here are the links to the datasets:\n",
        "\n",
        "https://raw.githubusercontent.com/ArashVafa/DESC624/master/wine_flag_training.csv\n",
        "\n",
        "https://raw.githubusercontent.com/ArashVafa/DESC624/master/wine_flag_test.csv\n",
        "\n",
        "\n",
        "Create two contingency tables, one with Type and Alcohol_flag and another with Type and Sugar_flag.\n",
        "Use the tables in the previous exercise to calculate:\n",
        "* The prior probability of Type = Red and Type = White.\n",
        "* The probability of high and low alcohol content.\n",
        "* The probability of high and low sugar content.\n",
        "* The conditional probabilities p(Alcohol_flag = High ∣ Type = Red) and p(Alcohol_flag = Low ∣ Type = Red).\n",
        "* The conditional probabilities p(Alcohol_flag = High ∣ Type = White) and p(Alcohol_flag = Low ∣ Type = White).\n",
        "* The conditional probabilities p(Sugar_flag = High ∣ Type = Red) and p(Sugar_flag = Low ∣ Type = Red).\n",
        "* The conditional probabilities p(Sugar_flag = High ∣ Type = White) and p(Sugar_flag = Low ∣ Type = White).\n",
        "\n",
        "Use the probabilities in the previous exercise to discuss\n",
        "* How likely it is that a randomly selected wine is red.\n",
        "* How likely it is that a randomly selected wine has a high alcohol content.\n",
        "* How likely it is that a randomly selected wine has a low sugar content.\n",
        "\n",
        "\n",
        "Use the conditional probabilities found earlier to discuss\n",
        "* What a typical white wine might have as its alcohol and sugar content.\n",
        "* What a typical red wine might have as its alcohol and sugar content.\n",
        "\n",
        "Create side‐by‐side bar graphs for Type, one with an overlay of Alcohol_flag and the other with an overlay of Sugar_flag. Compare the graphs to the conditional probabilities you calculated.\n",
        "\n",
        "Compute the posterior probability of Type = Red for a wine that is low in alcohol content and high in sugar content. Compute the posterior probability of Type = White for the same wine.\n",
        "\n",
        "Use your answers to the previous exercise to determine which type, red or white, is more probable for a wine with low alcohol and high sugar content. What would the Naïve Bayes classifier classify this wine as?\n",
        "\n",
        "Compute the posterior probability of Type = Red for a wine that is high in alcohol content and low in sugar content. Compute the posterior probability of Type = White for the same wine.\n",
        "\n",
        "Use your answers to the previous exercise to determine which type, red or white, is more probable for a wine with high alcohol and low sugar content. What would the Naïve Bayes classifier classify this wine as?\n",
        "\n",
        "Run the Naïve Bayes classifier to classify wines as white or red based on alcohol and sugar content.\n",
        "\n",
        "Evaluate the Naïve Bayes model on the wines_test data set. Display the results in a contingency table. Edit the row and column names of the table to make the table more readable. Include a total row and column.\n",
        "\n",
        "According to your table in the previous exercise, find the following values for the Naïve Bayes model:\n",
        "* Accuracy\n",
        "* Error rate\n",
        "\n",
        "According to your contingency table, find the following values for the Naïve Bayes model:\n",
        "* How often it correctly classifies red wines.\n",
        "* How often it correctly classifies white wines."
      ]
    },
    {
      "cell_type": "markdown",
      "metadata": {
        "id": "4wRE5d5ejtDr"
      },
      "source": [
        "Name a few classification algorithm, choose one and use it on a dataset of your choosing."
      ]
    },
    {
      "cell_type": "markdown",
      "metadata": {
        "id": "Y0yiEpbXZZUz"
      },
      "source": [
        "Apply ANN and decision tree algorithm on the wine dataset and compare the result? which one is better and why?"
      ]
    }
  ]
}