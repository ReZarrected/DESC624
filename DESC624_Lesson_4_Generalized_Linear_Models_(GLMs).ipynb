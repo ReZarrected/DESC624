{
  "nbformat": 4,
  "nbformat_minor": 0,
  "metadata": {
    "colab": {
      "name": "Generalized Linear Models (GLMs).ipynb",
      "provenance": []
    },
    "kernelspec": {
      "name": "python3",
      "display_name": "Python 3"
    }
  },
  "cells": [
    {
      "cell_type": "markdown",
      "metadata": {
        "id": "AH5zC1Hq6cU0"
      },
      "source": [
        "In the linear regression models we examined each had a continuous response variable. However, what happens if we want to build a regression model for a binary response instead? Or for a numeric discrete response? Luckily, there is a family of linear models that includes all three cases – continuous, numeric discrete, and binary – of regression response variables: General Linear Models (GLMs)."
      ]
    },
    {
      "cell_type": "markdown",
      "metadata": {
        "id": "kd4Fnzn36qsO"
      },
      "source": [
        "Let's visit the clothing_sales_training and clothing_sales_test data sets. This time, our goal is to determine whether or not customers have a store credit card, so our marketing team can send out advertisements to non‐holders, enticing them to sign up for a card. Our response variable in this case is binary: Yes, the customer has a card; or No, the customer does not. Since the response variable is binary, we will use logistic regression."
      ]
    },
    {
      "cell_type": "code",
      "metadata": {
        "id": "xQ9M1cJ06UC0",
        "colab": {
          "base_uri": "https://localhost:8080/",
          "height": 71
        },
        "outputId": "6b936506-3469-4369-a61c-92248fe43dfb"
      },
      "source": [
        "import pandas as pd \n",
        "import numpy as np \n",
        "import statsmodels.api as sm \n",
        "from scipy import stats \n",
        "\n",
        "import matplotlib.pyplot as plt  \n",
        "\n",
        "from sklearn.model_selection import train_test_split \n",
        "from sklearn.linear_model import LinearRegression\n",
        "from sklearn import metrics"
      ],
      "execution_count": null,
      "outputs": [
        {
          "output_type": "stream",
          "text": [
            "/usr/local/lib/python3.6/dist-packages/statsmodels/tools/_testing.py:19: FutureWarning: pandas.util.testing is deprecated. Use the functions in the public API at pandas.testing instead.\n",
            "  import pandas.util.testing as tm\n"
          ],
          "name": "stderr"
        }
      ]
    },
    {
      "cell_type": "code",
      "metadata": {
        "id": "6u2drODi7xum"
      },
      "source": [
        "url1 = 'https://raw.githubusercontent.com/ArashVafa/DESC624/master/clothing_sales_training.csv'\n",
        "sales_train = pd.read_csv(url1) \n",
        "\n",
        "url2 = 'https://raw.githubusercontent.com/ArashVafa/DESC624/master/clothing_sales_test.csv'\n",
        "sales_test = pd.read_csv(url2)"
      ],
      "execution_count": null,
      "outputs": []
    },
    {
      "cell_type": "code",
      "metadata": {
        "id": "c5mX1iXGJcSz",
        "colab": {
          "base_uri": "https://localhost:8080/",
          "height": 421
        },
        "outputId": "3206fcfc-58eb-4157-a6fc-1e54993775a4"
      },
      "source": [
        "sales_train.head(12)"
      ],
      "execution_count": null,
      "outputs": [
        {
          "output_type": "execute_result",
          "data": {
            "text/html": [
              "<div>\n",
              "<style scoped>\n",
              "    .dataframe tbody tr th:only-of-type {\n",
              "        vertical-align: middle;\n",
              "    }\n",
              "\n",
              "    .dataframe tbody tr th {\n",
              "        vertical-align: top;\n",
              "    }\n",
              "\n",
              "    .dataframe thead th {\n",
              "        text-align: right;\n",
              "    }\n",
              "</style>\n",
              "<table border=\"1\" class=\"dataframe\">\n",
              "  <thead>\n",
              "    <tr style=\"text-align: right;\">\n",
              "      <th></th>\n",
              "      <th>CC</th>\n",
              "      <th>Days</th>\n",
              "      <th>Web</th>\n",
              "      <th>Sales per Visit</th>\n",
              "    </tr>\n",
              "  </thead>\n",
              "  <tbody>\n",
              "    <tr>\n",
              "      <th>0</th>\n",
              "      <td>0</td>\n",
              "      <td>333.00</td>\n",
              "      <td>0</td>\n",
              "      <td>184.230000</td>\n",
              "    </tr>\n",
              "    <tr>\n",
              "      <th>1</th>\n",
              "      <td>0</td>\n",
              "      <td>171.50</td>\n",
              "      <td>0</td>\n",
              "      <td>38.500000</td>\n",
              "    </tr>\n",
              "    <tr>\n",
              "      <th>2</th>\n",
              "      <td>0</td>\n",
              "      <td>213.00</td>\n",
              "      <td>0</td>\n",
              "      <td>150.326667</td>\n",
              "    </tr>\n",
              "    <tr>\n",
              "      <th>3</th>\n",
              "      <td>1</td>\n",
              "      <td>71.40</td>\n",
              "      <td>1</td>\n",
              "      <td>104.240000</td>\n",
              "    </tr>\n",
              "    <tr>\n",
              "      <th>4</th>\n",
              "      <td>1</td>\n",
              "      <td>145.00</td>\n",
              "      <td>0</td>\n",
              "      <td>782.080000</td>\n",
              "    </tr>\n",
              "    <tr>\n",
              "      <th>5</th>\n",
              "      <td>0</td>\n",
              "      <td>447.00</td>\n",
              "      <td>0</td>\n",
              "      <td>79.000000</td>\n",
              "    </tr>\n",
              "    <tr>\n",
              "      <th>6</th>\n",
              "      <td>0</td>\n",
              "      <td>118.00</td>\n",
              "      <td>0</td>\n",
              "      <td>172.990000</td>\n",
              "    </tr>\n",
              "    <tr>\n",
              "      <th>7</th>\n",
              "      <td>0</td>\n",
              "      <td>73.80</td>\n",
              "      <td>0</td>\n",
              "      <td>21.276000</td>\n",
              "    </tr>\n",
              "    <tr>\n",
              "      <th>8</th>\n",
              "      <td>0</td>\n",
              "      <td>276.00</td>\n",
              "      <td>0</td>\n",
              "      <td>87.480000</td>\n",
              "    </tr>\n",
              "    <tr>\n",
              "      <th>9</th>\n",
              "      <td>0</td>\n",
              "      <td>67.75</td>\n",
              "      <td>0</td>\n",
              "      <td>26.802500</td>\n",
              "    </tr>\n",
              "    <tr>\n",
              "      <th>10</th>\n",
              "      <td>0</td>\n",
              "      <td>346.00</td>\n",
              "      <td>0</td>\n",
              "      <td>107.745000</td>\n",
              "    </tr>\n",
              "    <tr>\n",
              "      <th>11</th>\n",
              "      <td>1</td>\n",
              "      <td>342.50</td>\n",
              "      <td>0</td>\n",
              "      <td>79.490000</td>\n",
              "    </tr>\n",
              "  </tbody>\n",
              "</table>\n",
              "</div>"
            ],
            "text/plain": [
              "    CC    Days  Web  Sales per Visit\n",
              "0    0  333.00    0       184.230000\n",
              "1    0  171.50    0        38.500000\n",
              "2    0  213.00    0       150.326667\n",
              "3    1   71.40    1       104.240000\n",
              "4    1  145.00    0       782.080000\n",
              "5    0  447.00    0        79.000000\n",
              "6    0  118.00    0       172.990000\n",
              "7    0   73.80    0        21.276000\n",
              "8    0  276.00    0        87.480000\n",
              "9    0   67.75    0        26.802500\n",
              "10   0  346.00    0       107.745000\n",
              "11   1  342.50    0        79.490000"
            ]
          },
          "metadata": {
            "tags": []
          },
          "execution_count": 3
        }
      ]
    },
    {
      "cell_type": "code",
      "metadata": {
        "id": "EiEEXqM1764N",
        "colab": {
          "base_uri": "https://localhost:8080/",
          "height": 296
        },
        "outputId": "84a94bf3-e13b-4f27-91a8-2f85114e4420"
      },
      "source": [
        "sales_train.plot(x='Days', y='CC', style='o')  "
      ],
      "execution_count": null,
      "outputs": [
        {
          "output_type": "execute_result",
          "data": {
            "text/plain": [
              "<matplotlib.axes._subplots.AxesSubplot at 0x7f072e33e2b0>"
            ]
          },
          "metadata": {
            "tags": []
          },
          "execution_count": 4
        },
        {
          "output_type": "display_data",
          "data": {
            "image/png": "[encoded data removed]",
            "text/plain": [
              "<Figure size 432x288 with 1 Axes>"
            ]
          },
          "metadata": {
            "tags": [],
            "needs_background": "light"
          }
        }
      ]
    },
    {
      "cell_type": "code",
      "metadata": {
        "id": "iIzgapWV7V9B"
      },
      "source": [
        "X = pd.DataFrame(sales_train[['Days', 'Web']]) #predictors\n",
        "X = sm.add_constant(X)\n",
        "y = pd.DataFrame(sales_train[['CC']]) #target"
      ],
      "execution_count": null,
      "outputs": []
    },
    {
      "cell_type": "code",
      "metadata": {
        "id": "GI7cu1yddlKX"
      },
      "source": [
        "X = pd.DataFrame(sales_train['Days'])"
      ],
      "execution_count": null,
      "outputs": []
    },
    {
      "cell_type": "code",
      "metadata": {
        "id": "7alU5xjE8ZO9",
        "colab": {
          "base_uri": "https://localhost:8080/",
          "height": 34
        },
        "outputId": "6746c185-b086-4545-a7e7-3cef3966fa0c"
      },
      "source": [
        "regressor = LinearRegression()  \n",
        "regressor.fit(X, y) #training the algorithm"
      ],
      "execution_count": null,
      "outputs": [
        {
          "output_type": "execute_result",
          "data": {
            "text/plain": [
              "LinearRegression(copy_X=True, fit_intercept=True, n_jobs=None, normalize=False)"
            ]
          },
          "metadata": {
            "tags": []
          },
          "execution_count": 7
        }
      ]
    },
    {
      "cell_type": "code",
      "metadata": {
        "id": "w8IT84irw073",
        "colab": {
          "base_uri": "https://localhost:8080/",
          "height": 34
        },
        "outputId": "44a290d9-607f-4a31-c3f2-e406279ccc47"
      },
      "source": [
        "print(regressor.coef_)"
      ],
      "execution_count": null,
      "outputs": [
        {
          "output_type": "stream",
          "text": [
            "[[-0.00084872]]\n"
          ],
          "name": "stdout"
        }
      ]
    },
    {
      "cell_type": "code",
      "metadata": {
        "id": "0b41r5BK8jFP"
      },
      "source": [
        "y_pred = regressor.predict(X)"
      ],
      "execution_count": null,
      "outputs": []
    },
    {
      "cell_type": "code",
      "metadata": {
        "id": "EKPCU40a81FF",
        "colab": {
          "base_uri": "https://localhost:8080/",
          "height": 265
        },
        "outputId": "9fa16d3c-9f3f-4baa-ce29-50892bbc770a"
      },
      "source": [
        "plt.scatter(X['Days'], y,  color='gray')\n",
        "plt.plot(X['Days'], y_pred, color='red', linewidth=2)\n",
        "plt.show()"
      ],
      "execution_count": null,
      "outputs": [
        {
          "output_type": "display_data",
          "data": {
            "image/png": "[encoded data removed]",
            "text/plain": [
              "<Figure size 432x288 with 1 Axes>"
            ]
          },
          "metadata": {
            "tags": [],
            "needs_background": "light"
          }
        }
      ]
    },
    {
      "cell_type": "markdown",
      "metadata": {
        "id": "HvAPbR2r9On6"
      },
      "source": [
        "To perform logistic regression, use the Logit() and fit() commands. Save the model output and run the summary2() command on the saved model output to view the model results."
      ]
    },
    {
      "cell_type": "code",
      "metadata": {
        "id": "j0_YNKd-8SmO",
        "colab": {
          "base_uri": "https://localhost:8080/",
          "height": 282
        },
        "outputId": "33ab2ebe-a3bf-460a-e59d-29013c3ef700"
      },
      "source": [
        "logreg01 = sm.Logit(y, X).fit()\n",
        "logreg01.summary2()"
      ],
      "execution_count": null,
      "outputs": [
        {
          "output_type": "stream",
          "text": [
            "Optimization terminated successfully.\n",
            "         Current function value: 0.676634\n",
            "         Iterations 4\n"
          ],
          "name": "stdout"
        },
        {
          "output_type": "execute_result",
          "data": {
            "text/html": [
              "<table class=\"simpletable\">\n",
              "<tr>\n",
              "        <td>Model:</td>              <td>Logit</td>      <td>Pseudo R-squared:</td>   <td>0.023</td>  \n",
              "</tr>\n",
              "<tr>\n",
              "  <td>Dependent Variable:</td>        <td>CC</td>              <td>AIC:</td>        <td>1965.5924</td>\n",
              "</tr>\n",
              "<tr>\n",
              "         <td>Date:</td>        <td>2020-06-11 20:57</td>       <td>BIC:</td>        <td>1970.8724</td>\n",
              "</tr>\n",
              "<tr>\n",
              "   <td>No. Observations:</td>        <td>1451</td>        <td>Log-Likelihood:</td>   <td>-981.80</td> \n",
              "</tr>\n",
              "<tr>\n",
              "       <td>Df Model:</td>              <td>0</td>            <td>LL-Null:</td>       <td>-1004.9</td> \n",
              "</tr>\n",
              "<tr>\n",
              "     <td>Df Residuals:</td>          <td>1450</td>         <td>LLR p-value:</td>       <td>nan</td>   \n",
              "</tr>\n",
              "<tr>\n",
              "      <td>Converged:</td>           <td>1.0000</td>           <td>Scale:</td>        <td>1.0000</td>  \n",
              "</tr>\n",
              "<tr>\n",
              "    <td>No. Iterations:</td>        <td>4.0000</td>              <td></td>              <td></td>     \n",
              "</tr>\n",
              "</table>\n",
              "<table class=\"simpletable\">\n",
              "<tr>\n",
              "    <td></td>    <th>Coef.</th>  <th>Std.Err.</th>    <th>z</th>     <th>P>|z|</th> <th>[0.025</th>  <th>0.975]</th> \n",
              "</tr>\n",
              "<tr>\n",
              "  <th>Days</th> <td>-0.0017</td>  <td>0.0003</td>  <td>-6.7074</td> <td>0.0000</td> <td>-0.0022</td> <td>-0.0012</td>\n",
              "</tr>\n",
              "</table>"
            ],
            "text/plain": [
              "<class 'statsmodels.iolib.summary2.Summary'>\n",
              "\"\"\"\n",
              "                         Results: Logit\n",
              "================================================================\n",
              "Model:              Logit            Pseudo R-squared: 0.023    \n",
              "Dependent Variable: CC               AIC:              1965.5924\n",
              "Date:               2020-06-11 20:57 BIC:              1970.8724\n",
              "No. Observations:   1451             Log-Likelihood:   -981.80  \n",
              "Df Model:           0                LL-Null:          -1004.9  \n",
              "Df Residuals:       1450             LLR p-value:      nan      \n",
              "Converged:          1.0000           Scale:            1.0000   \n",
              "No. Iterations:     4.0000                                      \n",
              "------------------------------------------------------------------\n",
              "          Coef.    Std.Err.      z      P>|z|     [0.025    0.975]\n",
              "------------------------------------------------------------------\n",
              "Days     -0.0017     0.0003   -6.7074   0.0000   -0.0022   -0.0012\n",
              "================================================================\n",
              "\n",
              "\"\"\""
            ]
          },
          "metadata": {
            "tags": []
          },
          "execution_count": 11
        }
      ]
    },
    {
      "cell_type": "code",
      "metadata": {
        "id": "KsFRYCCO9T-l",
        "colab": {
          "base_uri": "https://localhost:8080/",
          "height": 324
        },
        "outputId": "c312b681-55c8-4b0d-f92d-22d94c6e4fa3"
      },
      "source": [
        "X_test = pd.DataFrame(sales_test[['Days', 'Web']])\n",
        "X_test = sm.add_constant(X_test)\n",
        "y_test = pd.DataFrame(sales_test[['CC']])\n",
        "logreg01_test = sm.Logit(y_test, X_test).fit()\n",
        "logreg01_test.summary2()"
      ],
      "execution_count": null,
      "outputs": [
        {
          "output_type": "stream",
          "text": [
            "Optimization terminated successfully.\n",
            "         Current function value: 0.656885\n",
            "         Iterations 5\n"
          ],
          "name": "stdout"
        },
        {
          "output_type": "execute_result",
          "data": {
            "text/html": [
              "<table class=\"simpletable\">\n",
              "<tr>\n",
              "        <td>Model:</td>              <td>Logit</td>      <td>Pseudo R-squared:</td>    <td>0.052</td>  \n",
              "</tr>\n",
              "<tr>\n",
              "  <td>Dependent Variable:</td>        <td>CC</td>              <td>AIC:</td>         <td>1838.7104</td>\n",
              "</tr>\n",
              "<tr>\n",
              "         <td>Date:</td>        <td>2020-06-11 20:57</td>       <td>BIC:</td>         <td>1854.4324</td>\n",
              "</tr>\n",
              "<tr>\n",
              "   <td>No. Observations:</td>        <td>1395</td>        <td>Log-Likelihood:</td>    <td>-916.36</td> \n",
              "</tr>\n",
              "<tr>\n",
              "       <td>Df Model:</td>              <td>2</td>            <td>LL-Null:</td>        <td>-966.40</td> \n",
              "</tr>\n",
              "<tr>\n",
              "     <td>Df Residuals:</td>          <td>1392</td>         <td>LLR p-value:</td>    <td>1.8534e-22</td>\n",
              "</tr>\n",
              "<tr>\n",
              "      <td>Converged:</td>           <td>1.0000</td>           <td>Scale:</td>         <td>1.0000</td>  \n",
              "</tr>\n",
              "<tr>\n",
              "    <td>No. Iterations:</td>        <td>5.0000</td>              <td></td>               <td></td>     \n",
              "</tr>\n",
              "</table>\n",
              "<table class=\"simpletable\">\n",
              "<tr>\n",
              "    <td></td>     <th>Coef.</th>  <th>Std.Err.</th>    <th>z</th>     <th>P>|z|</th> <th>[0.025</th>  <th>0.975]</th> \n",
              "</tr>\n",
              "<tr>\n",
              "  <th>const</th> <td>0.4634</td>   <td>0.0873</td>  <td>5.3105</td>  <td>0.0000</td> <td>0.2924</td>  <td>0.6345</td> \n",
              "</tr>\n",
              "<tr>\n",
              "  <th>Days</th>  <td>-0.0035</td>  <td>0.0004</td>  <td>-8.2261</td> <td>0.0000</td> <td>-0.0043</td> <td>-0.0026</td>\n",
              "</tr>\n",
              "<tr>\n",
              "  <th>Web</th>   <td>1.0973</td>   <td>0.2830</td>  <td>3.8780</td>  <td>0.0001</td> <td>0.5427</td>  <td>1.6519</td> \n",
              "</tr>\n",
              "</table>"
            ],
            "text/plain": [
              "<class 'statsmodels.iolib.summary2.Summary'>\n",
              "\"\"\"\n",
              "                         Results: Logit\n",
              "=================================================================\n",
              "Model:              Logit            Pseudo R-squared: 0.052     \n",
              "Dependent Variable: CC               AIC:              1838.7104 \n",
              "Date:               2020-06-11 20:57 BIC:              1854.4324 \n",
              "No. Observations:   1395             Log-Likelihood:   -916.36   \n",
              "Df Model:           2                LL-Null:          -966.40   \n",
              "Df Residuals:       1392             LLR p-value:      1.8534e-22\n",
              "Converged:          1.0000           Scale:            1.0000    \n",
              "No. Iterations:     5.0000                                       \n",
              "-------------------------------------------------------------------\n",
              "           Coef.    Std.Err.      z      P>|z|     [0.025    0.975]\n",
              "-------------------------------------------------------------------\n",
              "const      0.4634     0.0873    5.3105   0.0000    0.2924    0.6345\n",
              "Days      -0.0035     0.0004   -8.2261   0.0000   -0.0043   -0.0026\n",
              "Web        1.0973     0.2830    3.8780   0.0001    0.5427    1.6519\n",
              "=================================================================\n",
              "\n",
              "\"\"\""
            ]
          },
          "metadata": {
            "tags": []
          },
          "execution_count": 12
        }
      ]
    },
    {
      "cell_type": "code",
      "metadata": {
        "id": "wRWROrKP9b8_"
      },
      "source": [
        "y_predLR = logreg01_test.predict(X_test)"
      ],
      "execution_count": null,
      "outputs": []
    },
    {
      "cell_type": "code",
      "metadata": {
        "id": "_Lkncse79mtt",
        "colab": {
          "base_uri": "https://localhost:8080/",
          "height": 265
        },
        "outputId": "9d51f0be-9c63-4409-ed13-a8f4bec2c81e"
      },
      "source": [
        "plt.scatter(X_test['Days'], y_test,  color='gray')\n",
        "plt.plot(X_test['Days'], y_predLR, color='red', linewidth=2)\n",
        "plt.show()"
      ],
      "execution_count": null,
      "outputs": [
        {
          "output_type": "display_data",
          "data": {
            "image/png": "[encoded data removed]",
            "text/plain": [
              "<Figure size 432x288 with 1 Axes>"
            ]
          },
          "metadata": {
            "tags": [],
            "needs_background": "light"
          }
        }
      ]
    },
    {
      "cell_type": "code",
      "metadata": {
        "id": "f0asdQ_YbCP3"
      },
      "source": [
        "X = pd.DataFrame(sales_train['Days'])#, 'Web']]) #predictors\n",
        "X = sm.add_constant(X)\n",
        "y = pd.DataFrame(sales_train[['CC']]) #target"
      ],
      "execution_count": null,
      "outputs": []
    },
    {
      "cell_type": "code",
      "metadata": {
        "id": "OgACSzL2cnYI"
      },
      "source": [
        "X = sales_train['Days'].values.reshape(-1,1)\n",
        "y = sales_train['CC'].values.reshape(-1,1)"
      ],
      "execution_count": null,
      "outputs": []
    },
    {
      "cell_type": "code",
      "metadata": {
        "id": "sET1e7ZZbPtG"
      },
      "source": [
        "X_train, X_test, y_train, y_test = train_test_split(X, y)#, test_size=0.2, random_state=0)"
      ],
      "execution_count": null,
      "outputs": []
    },
    {
      "cell_type": "code",
      "metadata": {
        "id": "EZ0g669IbpHJ",
        "colab": {
          "base_uri": "https://localhost:8080/",
          "height": 34
        },
        "outputId": "66f5940e-0137-4cb7-8276-3d9a37d01c7f"
      },
      "source": [
        "X_train.size"
      ],
      "execution_count": null,
      "outputs": [
        {
          "output_type": "execute_result",
          "data": {
            "text/plain": [
              "1088"
            ]
          },
          "metadata": {
            "tags": []
          },
          "execution_count": 18
        }
      ]
    },
    {
      "cell_type": "code",
      "metadata": {
        "id": "SFgYF-Tqa9WP"
      },
      "source": [
        "regressor = LinearRegression()  \n",
        "regressor.fit(X_train, y_train) #training the algorithm\n",
        "y_pred = regressor.predict(X_test)"
      ],
      "execution_count": null,
      "outputs": []
    },
    {
      "cell_type": "code",
      "metadata": {
        "id": "KAQqyEUUbgx_",
        "colab": {
          "base_uri": "https://localhost:8080/",
          "height": 265
        },
        "outputId": "9dbb0454-490c-4560-b322-2cf06b5c96a9"
      },
      "source": [
        "plt.scatter(X_test, y_test,  color='gray')\n",
        "plt.plot(X_test, y_pred, color='red', linewidth=2)\n",
        "plt.show()"
      ],
      "execution_count": null,
      "outputs": [
        {
          "output_type": "display_data",
          "data": {
            "image/png": "[encoded data removed]",
            "text/plain": [
              "<Figure size 432x288 with 1 Axes>"
            ]
          },
          "metadata": {
            "tags": [],
            "needs_background": "light"
          }
        }
      ]
    },
    {
      "cell_type": "code",
      "metadata": {
        "id": "PJK9934SdvBV"
      },
      "source": [
        "from sklearn.linear_model import LogisticRegression"
      ],
      "execution_count": null,
      "outputs": []
    },
    {
      "cell_type": "code",
      "metadata": {
        "id": "di-eGnDNdjki",
        "colab": {
          "base_uri": "https://localhost:8080/",
          "height": 71
        },
        "outputId": "55041a36-81c0-413e-85e1-91d3bd138eef"
      },
      "source": [
        "regressor2 = LogisticRegression()  \n",
        "regressor2.fit(X_train, y_train) #training the algorithm\n",
        "y_pred = regressor2.predict(X_test)"
      ],
      "execution_count": null,
      "outputs": [
        {
          "output_type": "stream",
          "text": [
            "/usr/local/lib/python3.6/dist-packages/sklearn/utils/validation.py:760: DataConversionWarning: A column-vector y was passed when a 1d array was expected. Please change the shape of y to (n_samples, ), for example using ravel().\n",
            "  y = column_or_1d(y, warn=True)\n"
          ],
          "name": "stderr"
        }
      ]
    },
    {
      "cell_type": "code",
      "metadata": {
        "id": "QAOdRA0qdyPD",
        "colab": {
          "base_uri": "https://localhost:8080/",
          "height": 265
        },
        "outputId": "70113f64-e173-4119-e6ff-ff3a9e35f634"
      },
      "source": [
        "plt.scatter(X_test, y_test,  color='gray')\n",
        "plt.scatter(X_test, y_pred, color='red')\n",
        "#plt.plot(X_test, y_pred, color='red', linewidth=1)\n",
        "plt.show()"
      ],
      "execution_count": null,
      "outputs": [
        {
          "output_type": "display_data",
          "data": {
            "image/png": "[encoded data removed]",
            "text/plain": [
              "<Figure size 432x288 with 1 Axes>"
            ]
          },
          "metadata": {
            "tags": [],
            "needs_background": "light"
          }
        }
      ]
    },
    {
      "cell_type": "code",
      "metadata": {
        "id": "fTM4_qiTebAx",
        "colab": {
          "base_uri": "https://localhost:8080/",
          "height": 85
        },
        "outputId": "eef305b4-b6b9-4655-8d67-3c1325775ba2"
      },
      "source": [
        "# Poisson regression code\n",
        "import statsmodels.api as sm\n",
        "exog, endog = sm.add_constant(X_test), y_test\n",
        "mod = sm.GLM(endog, exog,\n",
        "             family=sm.families.Poisson(link=sm.families.links.log))\n",
        "mod.fit()"
      ],
      "execution_count": null,
      "outputs": [
        {
          "output_type": "stream",
          "text": [
            "/usr/local/lib/python3.6/dist-packages/ipykernel_launcher.py:5: DeprecationWarning: Calling Family(..) with a link class as argument is deprecated.\n",
            "Use an instance of a link class instead.\n",
            "  \"\"\"\n"
          ],
          "name": "stderr"
        },
        {
          "output_type": "execute_result",
          "data": {
            "text/plain": [
              "<statsmodels.genmod.generalized_linear_model.GLMResultsWrapper at 0x7f072b3f0d30>"
            ]
          },
          "metadata": {
            "tags": []
          },
          "execution_count": 24
        }
      ]
    }
  ]
}