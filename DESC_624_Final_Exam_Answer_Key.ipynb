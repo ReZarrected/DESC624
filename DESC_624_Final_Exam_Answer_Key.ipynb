{
  "nbformat": 4,
  "nbformat_minor": 0,
  "metadata": {
    "colab": {
      "name": "DESC 624 Final Exam Answer Key.ipynb",
      "provenance": []
    },
    "kernelspec": {
      "name": "python3",
      "display_name": "Python 3"
    }
  },
  "cells": [
    {
      "cell_type": "markdown",
      "metadata": {
        "id": "BbD3CO0-Cbd3"
      },
      "source": [
        "With what information does Bayes Theorem update our previous knowledge about the data parameters?\n",
        "\n",
        "A: We could use the the information(prior probability) we have to predict the future probabiliity."
      ]
    },
    {
      "cell_type": "markdown",
      "metadata": {
        "id": "w5RvhnyGCgDL"
      },
      "source": [
        "What does the prior probability represent?\n",
        "\n",
        "A: For the most time, Prior probability is the informaion we collect from the history. For example, the accuracy rate for someone's prediction. We could easily get this information from his pervious record. With this record and Bayes Theorem, we could calulate the accuracy rate of his future prediictions. "
      ]
    },
    {
      "cell_type": "code",
      "metadata": {
        "id": "OQUBI8t7-qxN",
        "colab": {
          "base_uri": "https://localhost:8080/",
          "height": 210
        },
        "outputId": "83bf87e9-1119-4c40-9268-90b630d1db71"
      },
      "source": [
        "import numpy as np\n",
        "import matplotlib.pyplot as plt\n",
        "import seaborn as sns\n",
        "import pandas as pd\n",
        "url = 'https://raw.githubusercontent.com/ArashVafa/DESC624/master/wine_flag_training.csv'\n",
        "train = pd.read_csv(url)\n",
        "train.head(5)\n"
      ],
      "execution_count": null,
      "outputs": [
        {
          "output_type": "execute_result",
          "data": {
            "text/html": [
              "<div>\n",
              "<style scoped>\n",
              "    .dataframe tbody tr th:only-of-type {\n",
              "        vertical-align: middle;\n",
              "    }\n",
              "\n",
              "    .dataframe tbody tr th {\n",
              "        vertical-align: top;\n",
              "    }\n",
              "\n",
              "    .dataframe thead th {\n",
              "        text-align: right;\n",
              "    }\n",
              "</style>\n",
              "<table border=\"1\" class=\"dataframe\">\n",
              "  <thead>\n",
              "    <tr style=\"text-align: right;\">\n",
              "      <th></th>\n",
              "      <th>Type</th>\n",
              "      <th>Alcohol_flag</th>\n",
              "      <th>Sugar_flag</th>\n",
              "    </tr>\n",
              "  </thead>\n",
              "  <tbody>\n",
              "    <tr>\n",
              "      <th>0</th>\n",
              "      <td>Red</td>\n",
              "      <td>High</td>\n",
              "      <td>High</td>\n",
              "    </tr>\n",
              "    <tr>\n",
              "      <th>1</th>\n",
              "      <td>Red</td>\n",
              "      <td>High</td>\n",
              "      <td>Low</td>\n",
              "    </tr>\n",
              "    <tr>\n",
              "      <th>2</th>\n",
              "      <td>Red</td>\n",
              "      <td>Low</td>\n",
              "      <td>High</td>\n",
              "    </tr>\n",
              "    <tr>\n",
              "      <th>3</th>\n",
              "      <td>Red</td>\n",
              "      <td>High</td>\n",
              "      <td>Low</td>\n",
              "    </tr>\n",
              "    <tr>\n",
              "      <th>4</th>\n",
              "      <td>Red</td>\n",
              "      <td>Low</td>\n",
              "      <td>Low</td>\n",
              "    </tr>\n",
              "  </tbody>\n",
              "</table>\n",
              "</div>"
            ],
            "text/plain": [
              "  Type Alcohol_flag Sugar_flag\n",
              "0  Red         High       High\n",
              "1  Red         High        Low\n",
              "2  Red          Low       High\n",
              "3  Red         High        Low\n",
              "4  Red          Low        Low"
            ]
          },
          "metadata": {
            "tags": []
          },
          "execution_count": 138
        }
      ]
    },
    {
      "cell_type": "code",
      "metadata": {
        "id": "A8QStfFCD55C",
        "colab": {
          "base_uri": "https://localhost:8080/",
          "height": 77
        },
        "outputId": "7f414efb-5ecf-4139-c46b-fb15e822f859"
      },
      "source": [
        "train['Alcohol_flag'].value_counts(normalize=True) * 100"
      ],
      "execution_count": null,
      "outputs": [
        {
          "output_type": "execute_result",
          "data": {
            "text/plain": [
              "Low     51.4\n",
              "High    48.6\n",
              "Name: Alcohol_flag, dtype: float64"
            ]
          },
          "metadata": {
            "tags": []
          },
          "execution_count": 117
        }
      ]
    },
    {
      "cell_type": "code",
      "metadata": {
        "id": "OjovHS3lCkVJ",
        "colab": {
          "base_uri": "https://localhost:8080/",
          "height": 77
        },
        "outputId": "75e8d84b-9906-4fbc-85bc-9653a94a27db"
      },
      "source": [
        "train['Sugar_flag'].value_counts(normalize=True) * 100"
      ],
      "execution_count": null,
      "outputs": [
        {
          "output_type": "execute_result",
          "data": {
            "text/plain": [
              "Low     58.4\n",
              "High    41.6\n",
              "Name: Sugar_flag, dtype: float64"
            ]
          },
          "metadata": {
            "tags": []
          },
          "execution_count": 118
        }
      ]
    },
    {
      "cell_type": "code",
      "metadata": {
        "id": "tog8y1IHEDpk",
        "colab": {
          "base_uri": "https://localhost:8080/",
          "height": 77
        },
        "outputId": "828f8b77-510e-4537-8cb6-2389c4e335e4"
      },
      "source": [
        "train['Type'].value_counts(normalize=True) * 100"
      ],
      "execution_count": null,
      "outputs": [
        {
          "output_type": "execute_result",
          "data": {
            "text/plain": [
              "White    50.0\n",
              "Red      50.0\n",
              "Name: Type, dtype: float64"
            ]
          },
          "metadata": {
            "tags": []
          },
          "execution_count": 119
        }
      ]
    },
    {
      "cell_type": "code",
      "metadata": {
        "id": "m9LAfitV_ifq",
        "colab": {
          "base_uri": "https://localhost:8080/",
          "height": 318
        },
        "outputId": "37e5525c-4ee0-45f9-db30-2a7a013056de"
      },
      "source": [
        "crosstab_01 = pd.crosstab(train['Type'], train['Alcohol_flag'])\n",
        "crosstab_norm_01 = crosstab_01.div(crosstab_01.sum(1),axis = 0)\n",
        "crosstab_norm_01.plot(kind = 'bar', stacked = True)"
      ],
      "execution_count": null,
      "outputs": [
        {
          "output_type": "execute_result",
          "data": {
            "text/plain": [
              "<matplotlib.axes._subplots.AxesSubplot at 0x7f624ca2fd30>"
            ]
          },
          "metadata": {
            "tags": []
          },
          "execution_count": 120
        },
        {
          "output_type": "display_data",
          "data": {
            "image/png": "[encoded data removed]",
            "text/plain": [
              "<Figure size 432x288 with 1 Axes>"
            ]
          },
          "metadata": {
            "tags": []
          }
        }
      ]
    },
    {
      "cell_type": "code",
      "metadata": {
        "id": "EKAiOD4wBp78",
        "colab": {
          "base_uri": "https://localhost:8080/",
          "height": 146
        },
        "outputId": "a243adc6-4a6a-4078-8686-b170cf4e2e67"
      },
      "source": [
        "round(crosstab_01.div(crosstab_01.sum(0), axis = 1) *100,1)"
      ],
      "execution_count": null,
      "outputs": [
        {
          "output_type": "execute_result",
          "data": {
            "text/html": [
              "<div>\n",
              "<style scoped>\n",
              "    .dataframe tbody tr th:only-of-type {\n",
              "        vertical-align: middle;\n",
              "    }\n",
              "\n",
              "    .dataframe tbody tr th {\n",
              "        vertical-align: top;\n",
              "    }\n",
              "\n",
              "    .dataframe thead th {\n",
              "        text-align: right;\n",
              "    }\n",
              "</style>\n",
              "<table border=\"1\" class=\"dataframe\">\n",
              "  <thead>\n",
              "    <tr style=\"text-align: right;\">\n",
              "      <th>Alcohol_flag</th>\n",
              "      <th>High</th>\n",
              "      <th>Low</th>\n",
              "    </tr>\n",
              "    <tr>\n",
              "      <th>Type</th>\n",
              "      <th></th>\n",
              "      <th></th>\n",
              "    </tr>\n",
              "  </thead>\n",
              "  <tbody>\n",
              "    <tr>\n",
              "      <th>Red</th>\n",
              "      <td>44.9</td>\n",
              "      <td>54.9</td>\n",
              "    </tr>\n",
              "    <tr>\n",
              "      <th>White</th>\n",
              "      <td>55.1</td>\n",
              "      <td>45.1</td>\n",
              "    </tr>\n",
              "  </tbody>\n",
              "</table>\n",
              "</div>"
            ],
            "text/plain": [
              "Alcohol_flag  High   Low\n",
              "Type                    \n",
              "Red           44.9  54.9\n",
              "White         55.1  45.1"
            ]
          },
          "metadata": {
            "tags": []
          },
          "execution_count": 121
        }
      ]
    },
    {
      "cell_type": "markdown",
      "metadata": {
        "id": "idXMLH82FrPu"
      },
      "source": [
        "p(Alcohol_flag = High ∣ Type = Red) = 44.9% \n",
        "\n",
        "p(Alcohol_flag = Low ∣ Type = Red) = 54.9%\n",
        "\n",
        "p(Alcohol_flag = High ∣ Type = White) = 55.1%\n",
        "\n",
        "p(Alcohol_flag = Low ∣ Type = White) = 45.1%\n"
      ]
    },
    {
      "cell_type": "code",
      "metadata": {
        "id": "NfqYWV89_6KB",
        "colab": {
          "base_uri": "https://localhost:8080/",
          "height": 318
        },
        "outputId": "d28eb696-4151-45d5-f1b6-36412ce2bdc7"
      },
      "source": [
        "crosstab_02 = pd.crosstab(train['Type'], train['Sugar_flag'])\n",
        "crosstab_norm_02 = crosstab_01.div(crosstab_01.sum(1),axis = 0)\n",
        "crosstab_norm_02.plot(kind = 'bar', stacked = True)"
      ],
      "execution_count": null,
      "outputs": [
        {
          "output_type": "execute_result",
          "data": {
            "text/plain": [
              "<matplotlib.axes._subplots.AxesSubplot at 0x7f624f358ef0>"
            ]
          },
          "metadata": {
            "tags": []
          },
          "execution_count": 122
        },
        {
          "output_type": "display_data",
          "data": {
            "image/png": "[encoded data removed]",
            "text/plain": [
              "<Figure size 432x288 with 1 Axes>"
            ]
          },
          "metadata": {
            "tags": []
          }
        }
      ]
    },
    {
      "cell_type": "code",
      "metadata": {
        "id": "aKAtZ1pgBjk1",
        "colab": {
          "base_uri": "https://localhost:8080/",
          "height": 146
        },
        "outputId": "fcf0cb3a-e8e5-4b0a-e237-01d4761bca1a"
      },
      "source": [
        "round(crosstab_02.div(crosstab_02.sum(0), axis = 1) *100,1)"
      ],
      "execution_count": null,
      "outputs": [
        {
          "output_type": "execute_result",
          "data": {
            "text/html": [
              "<div>\n",
              "<style scoped>\n",
              "    .dataframe tbody tr th:only-of-type {\n",
              "        vertical-align: middle;\n",
              "    }\n",
              "\n",
              "    .dataframe tbody tr th {\n",
              "        vertical-align: top;\n",
              "    }\n",
              "\n",
              "    .dataframe thead th {\n",
              "        text-align: right;\n",
              "    }\n",
              "</style>\n",
              "<table border=\"1\" class=\"dataframe\">\n",
              "  <thead>\n",
              "    <tr style=\"text-align: right;\">\n",
              "      <th>Sugar_flag</th>\n",
              "      <th>High</th>\n",
              "      <th>Low</th>\n",
              "    </tr>\n",
              "    <tr>\n",
              "      <th>Type</th>\n",
              "      <th></th>\n",
              "      <th></th>\n",
              "    </tr>\n",
              "  </thead>\n",
              "  <tbody>\n",
              "    <tr>\n",
              "      <th>Red</th>\n",
              "      <td>27.9</td>\n",
              "      <td>65.8</td>\n",
              "    </tr>\n",
              "    <tr>\n",
              "      <th>White</th>\n",
              "      <td>72.1</td>\n",
              "      <td>34.2</td>\n",
              "    </tr>\n",
              "  </tbody>\n",
              "</table>\n",
              "</div>"
            ],
            "text/plain": [
              "Sugar_flag  High   Low\n",
              "Type                  \n",
              "Red         27.9  65.8\n",
              "White       72.1  34.2"
            ]
          },
          "metadata": {
            "tags": []
          },
          "execution_count": 123
        }
      ]
    },
    {
      "cell_type": "code",
      "metadata": {
        "id": "dtk_tp43miNa",
        "colab": {
          "base_uri": "https://localhost:8080/",
          "height": 146
        },
        "outputId": "39751cdd-306c-45af-fb56-a9ae779837b4"
      },
      "source": [
        "crosstab_03 = pd.crosstab(train['Sugar_flag'], train['Type'])\n",
        "round(crosstab_03.div(crosstab_03.sum(0), axis = 1) *100,1)"
      ],
      "execution_count": null,
      "outputs": [
        {
          "output_type": "execute_result",
          "data": {
            "text/html": [
              "<div>\n",
              "<style scoped>\n",
              "    .dataframe tbody tr th:only-of-type {\n",
              "        vertical-align: middle;\n",
              "    }\n",
              "\n",
              "    .dataframe tbody tr th {\n",
              "        vertical-align: top;\n",
              "    }\n",
              "\n",
              "    .dataframe thead th {\n",
              "        text-align: right;\n",
              "    }\n",
              "</style>\n",
              "<table border=\"1\" class=\"dataframe\">\n",
              "  <thead>\n",
              "    <tr style=\"text-align: right;\">\n",
              "      <th>Type</th>\n",
              "      <th>Red</th>\n",
              "      <th>White</th>\n",
              "    </tr>\n",
              "    <tr>\n",
              "      <th>Sugar_flag</th>\n",
              "      <th></th>\n",
              "      <th></th>\n",
              "    </tr>\n",
              "  </thead>\n",
              "  <tbody>\n",
              "    <tr>\n",
              "      <th>High</th>\n",
              "      <td>23.2</td>\n",
              "      <td>60.0</td>\n",
              "    </tr>\n",
              "    <tr>\n",
              "      <th>Low</th>\n",
              "      <td>76.8</td>\n",
              "      <td>40.0</td>\n",
              "    </tr>\n",
              "  </tbody>\n",
              "</table>\n",
              "</div>"
            ],
            "text/plain": [
              "Type         Red  White\n",
              "Sugar_flag             \n",
              "High        23.2   60.0\n",
              "Low         76.8   40.0"
            ]
          },
          "metadata": {
            "tags": []
          },
          "execution_count": 124
        }
      ]
    },
    {
      "cell_type": "code",
      "metadata": {
        "id": "RzS2wjFbnByL",
        "colab": {
          "base_uri": "https://localhost:8080/",
          "height": 146
        },
        "outputId": "a0d6d33f-95b7-4de2-c9e4-fbfd7f54d6fa"
      },
      "source": [
        "crosstab_04 = pd.crosstab(train['Alcohol_flag'], train['Type'])\n",
        "round(crosstab_04.div(crosstab_04.sum(0), axis = 1) *100,1)"
      ],
      "execution_count": null,
      "outputs": [
        {
          "output_type": "execute_result",
          "data": {
            "text/html": [
              "<div>\n",
              "<style scoped>\n",
              "    .dataframe tbody tr th:only-of-type {\n",
              "        vertical-align: middle;\n",
              "    }\n",
              "\n",
              "    .dataframe tbody tr th {\n",
              "        vertical-align: top;\n",
              "    }\n",
              "\n",
              "    .dataframe thead th {\n",
              "        text-align: right;\n",
              "    }\n",
              "</style>\n",
              "<table border=\"1\" class=\"dataframe\">\n",
              "  <thead>\n",
              "    <tr style=\"text-align: right;\">\n",
              "      <th>Type</th>\n",
              "      <th>Red</th>\n",
              "      <th>White</th>\n",
              "    </tr>\n",
              "    <tr>\n",
              "      <th>Alcohol_flag</th>\n",
              "      <th></th>\n",
              "      <th></th>\n",
              "    </tr>\n",
              "  </thead>\n",
              "  <tbody>\n",
              "    <tr>\n",
              "      <th>High</th>\n",
              "      <td>43.6</td>\n",
              "      <td>53.6</td>\n",
              "    </tr>\n",
              "    <tr>\n",
              "      <th>Low</th>\n",
              "      <td>56.4</td>\n",
              "      <td>46.4</td>\n",
              "    </tr>\n",
              "  </tbody>\n",
              "</table>\n",
              "</div>"
            ],
            "text/plain": [
              "Type           Red  White\n",
              "Alcohol_flag             \n",
              "High          43.6   53.6\n",
              "Low           56.4   46.4"
            ]
          },
          "metadata": {
            "tags": []
          },
          "execution_count": 125
        }
      ]
    },
    {
      "cell_type": "markdown",
      "metadata": {
        "id": "wjPYR5F5GaAw"
      },
      "source": [
        "p(Sugar_flag = High ∣ Type = Red) = 27.9%\n",
        "\n",
        "p(Sugar_flag = Low ∣ Type = Red) = 65.8%\n",
        "\n",
        "p(Sugar_flag = High ∣ Type = White)  = 72.1%\n",
        "\n",
        "and p(Sugar_flag = Low ∣ Type = White) = 34.2%"
      ]
    },
    {
      "cell_type": "markdown",
      "metadata": {
        "id": "uzgY2XIuGwKU"
      },
      "source": [
        "•\tHow likely it is that a randomly selected wine is red.\n",
        "\n",
        "A: 50%\n",
        "\n",
        "•\tHow likely it is that a randomly selected wine has a high alcohol content.\n",
        "\n",
        "A: 48.6%\n",
        "\n",
        "•\tHow likely it is that a randomly selected wine has a low sugar content.\n",
        "\n",
        "A: 58.4% \n",
        "\n",
        "•\tWhat a typical white wine might have as its alcohol and sugar content.\n",
        "\n",
        "A: A white wine would have high sugar and alcohol. \n",
        "\n",
        "•\tWhat a typical red wine might have as its alcohol and sugar content.\n",
        "\n",
        "A: You may have a little bit higher probability to get a high alcholhol level for red wine. At the same time, the most red wine has a low sugar level. "
      ]
    },
    {
      "cell_type": "markdown",
      "metadata": {
        "id": "KhjS3FHsOIVS"
      },
      "source": [
        "Type = Red for a wine that is low in alcohol content and high in sugar content\n",
        "\n",
        "A: p(red|alclow low and sugar high) = P(Alcohol low|Red) * P(Sugar_High|Red) * P(Red)/【(P(Alcohol low) * P(Sugar High)】\n",
        "\n",
        "=(0.549 * 0.279) * 0.5 / 0.514 / 0.416 = 0.358\n",
        "\n",
        "Type = white for a wine that is low in alcohol content and high in sugar content\n",
        "\n",
        "A: p(white|alclow low and sugar high) = P(Alcohol low|white) * P(Sugar_High|white) * P(white)/【(P(Alcohol low) * P(Sugar High)】\n",
        "\n",
        "= 0.451 * 0,721 * 0.5 / 0.514 / 0.416 = 0.760\n",
        "\n",
        "White wine is more likely to have a low alcohol content and high sugar content. \n",
        "\n",
        "Type = Red for a wine that is high in alcohol content and low in sugar content \n",
        "\n",
        "A: p(red|alclow high and sugar low) = P(Alcohol high|Red) * P(Sugar_low|Red) * P(Red)/【(P(Alcohol high) * P(Sugar low)】\n",
        "\n",
        "= 0.449 * 0.658 * 0.5 / 0.486 / 0.584 = 0.52\n",
        "\n",
        "Type = white for a wine that is high in alcohol content and low in sugar content\n",
        "\n",
        "p(white|alclow high and sugar low) = P(Alcohol high|white) * P(Sugar_low|white) * P(white)/【(P(Alcohol high) * P(Sugar low)】\n",
        "\n",
        "= 0.551 * 0.341 * 0.5 / 0.486 / 0.584 = 0.334\n",
        "\n",
        "Red wine is more likely to have a High alcohol content and low sugar content. NB follows the probability, I think NB's answer would be same us ours. "
      ]
    },
    {
      "cell_type": "code",
      "metadata": {
        "id": "Q_f8QHRkOHGq"
      },
      "source": [
        "\n",
        "from sklearn.naive_bayes import GaussianNB \n",
        "from sklearn.naive_bayes import MultinomialNB \n",
        "\n",
        "from inspect import signature\n",
        "\n",
        "import sklearn\n",
        "from sklearn import linear_model, dummy, metrics\n",
        "from sklearn.dummy import DummyClassifier\n",
        "from sklearn.metrics import *\n"
      ],
      "execution_count": null,
      "outputs": []
    },
    {
      "cell_type": "code",
      "metadata": {
        "id": "n6gvRjWYWFol",
        "colab": {
          "base_uri": "https://localhost:8080/",
          "height": 370
        },
        "outputId": "268f173a-dab9-4718-f7ce-0d3fb25371ee"
      },
      "source": [
        "train['Type']= train['Type'].replace({'Red': 1})\n",
        "train['Type']= train['Type'].replace({'White': 0})\n",
        "train['Alcohol_flag']= train['Alcohol_flag'].replace({'Low': 0})\n",
        "train['Alcohol_flag']= train['Alcohol_flag'].replace({'High': 1})\n",
        "train['Sugar_flag']= train['Sugar_flag'].replace({'Low': 0})\n",
        "train['Sugar_flag']= train['Sugar_flag'].replace({'High': 1})\n",
        "train.head(10)"
      ],
      "execution_count": null,
      "outputs": [
        {
          "output_type": "execute_result",
          "data": {
            "text/html": [
              "<div>\n",
              "<style scoped>\n",
              "    .dataframe tbody tr th:only-of-type {\n",
              "        vertical-align: middle;\n",
              "    }\n",
              "\n",
              "    .dataframe tbody tr th {\n",
              "        vertical-align: top;\n",
              "    }\n",
              "\n",
              "    .dataframe thead th {\n",
              "        text-align: right;\n",
              "    }\n",
              "</style>\n",
              "<table border=\"1\" class=\"dataframe\">\n",
              "  <thead>\n",
              "    <tr style=\"text-align: right;\">\n",
              "      <th></th>\n",
              "      <th>Type</th>\n",
              "      <th>Alcohol_flag</th>\n",
              "      <th>Sugar_flag</th>\n",
              "    </tr>\n",
              "  </thead>\n",
              "  <tbody>\n",
              "    <tr>\n",
              "      <th>0</th>\n",
              "      <td>1</td>\n",
              "      <td>1</td>\n",
              "      <td>1</td>\n",
              "    </tr>\n",
              "    <tr>\n",
              "      <th>1</th>\n",
              "      <td>1</td>\n",
              "      <td>1</td>\n",
              "      <td>0</td>\n",
              "    </tr>\n",
              "    <tr>\n",
              "      <th>2</th>\n",
              "      <td>1</td>\n",
              "      <td>0</td>\n",
              "      <td>1</td>\n",
              "    </tr>\n",
              "    <tr>\n",
              "      <th>3</th>\n",
              "      <td>1</td>\n",
              "      <td>1</td>\n",
              "      <td>0</td>\n",
              "    </tr>\n",
              "    <tr>\n",
              "      <th>4</th>\n",
              "      <td>1</td>\n",
              "      <td>0</td>\n",
              "      <td>0</td>\n",
              "    </tr>\n",
              "    <tr>\n",
              "      <th>5</th>\n",
              "      <td>1</td>\n",
              "      <td>0</td>\n",
              "      <td>0</td>\n",
              "    </tr>\n",
              "    <tr>\n",
              "      <th>6</th>\n",
              "      <td>1</td>\n",
              "      <td>1</td>\n",
              "      <td>0</td>\n",
              "    </tr>\n",
              "    <tr>\n",
              "      <th>7</th>\n",
              "      <td>1</td>\n",
              "      <td>0</td>\n",
              "      <td>0</td>\n",
              "    </tr>\n",
              "    <tr>\n",
              "      <th>8</th>\n",
              "      <td>1</td>\n",
              "      <td>0</td>\n",
              "      <td>0</td>\n",
              "    </tr>\n",
              "    <tr>\n",
              "      <th>9</th>\n",
              "      <td>1</td>\n",
              "      <td>0</td>\n",
              "      <td>0</td>\n",
              "    </tr>\n",
              "  </tbody>\n",
              "</table>\n",
              "</div>"
            ],
            "text/plain": [
              "   Type  Alcohol_flag  Sugar_flag\n",
              "0     1             1           1\n",
              "1     1             1           0\n",
              "2     1             0           1\n",
              "3     1             1           0\n",
              "4     1             0           0\n",
              "5     1             0           0\n",
              "6     1             1           0\n",
              "7     1             0           0\n",
              "8     1             0           0\n",
              "9     1             0           0"
            ]
          },
          "metadata": {
            "tags": []
          },
          "execution_count": 140
        }
      ]
    },
    {
      "cell_type": "code",
      "metadata": {
        "id": "iuoa8t6dRfC-"
      },
      "source": [
        "X = train.drop(['Type'], axis =1)\n",
        "y = train['Type']\n",
        "\n"
      ],
      "execution_count": null,
      "outputs": []
    },
    {
      "cell_type": "code",
      "metadata": {
        "id": "R5eJrgtIbAbo",
        "colab": {
          "base_uri": "https://localhost:8080/",
          "height": 370
        },
        "outputId": "f3c6da33-c998-4d7c-ae2f-94bfe349214b"
      },
      "source": [
        "url = 'https://raw.githubusercontent.com/ArashVafa/DESC624/master/wine_flag_test.csv'\n",
        "test = pd.read_csv(url)\n",
        "\n",
        "test['Type']= test['Type'].replace({'Red': 1})\n",
        "test['Type']= test['Type'].replace({'White': 0})\n",
        "test['Alcohol_flag']= test['Alcohol_flag'].replace({'Low': 0})\n",
        "test['Alcohol_flag']= test['Alcohol_flag'].replace({'High': 1})\n",
        "test['Sugar_flag']= test['Sugar_flag'].replace({'Low': 0})\n",
        "test['Sugar_flag']= test['Sugar_flag'].replace({'High': 1})\n",
        "test.head(10)"
      ],
      "execution_count": null,
      "outputs": [
        {
          "output_type": "execute_result",
          "data": {
            "text/html": [
              "<div>\n",
              "<style scoped>\n",
              "    .dataframe tbody tr th:only-of-type {\n",
              "        vertical-align: middle;\n",
              "    }\n",
              "\n",
              "    .dataframe tbody tr th {\n",
              "        vertical-align: top;\n",
              "    }\n",
              "\n",
              "    .dataframe thead th {\n",
              "        text-align: right;\n",
              "    }\n",
              "</style>\n",
              "<table border=\"1\" class=\"dataframe\">\n",
              "  <thead>\n",
              "    <tr style=\"text-align: right;\">\n",
              "      <th></th>\n",
              "      <th>Type</th>\n",
              "      <th>Alcohol_flag</th>\n",
              "      <th>Sugar_flag</th>\n",
              "    </tr>\n",
              "  </thead>\n",
              "  <tbody>\n",
              "    <tr>\n",
              "      <th>0</th>\n",
              "      <td>1</td>\n",
              "      <td>0</td>\n",
              "      <td>0</td>\n",
              "    </tr>\n",
              "    <tr>\n",
              "      <th>1</th>\n",
              "      <td>1</td>\n",
              "      <td>0</td>\n",
              "      <td>0</td>\n",
              "    </tr>\n",
              "    <tr>\n",
              "      <th>2</th>\n",
              "      <td>1</td>\n",
              "      <td>0</td>\n",
              "      <td>0</td>\n",
              "    </tr>\n",
              "    <tr>\n",
              "      <th>3</th>\n",
              "      <td>1</td>\n",
              "      <td>0</td>\n",
              "      <td>0</td>\n",
              "    </tr>\n",
              "    <tr>\n",
              "      <th>4</th>\n",
              "      <td>1</td>\n",
              "      <td>0</td>\n",
              "      <td>0</td>\n",
              "    </tr>\n",
              "    <tr>\n",
              "      <th>5</th>\n",
              "      <td>1</td>\n",
              "      <td>0</td>\n",
              "      <td>0</td>\n",
              "    </tr>\n",
              "    <tr>\n",
              "      <th>6</th>\n",
              "      <td>1</td>\n",
              "      <td>0</td>\n",
              "      <td>0</td>\n",
              "    </tr>\n",
              "    <tr>\n",
              "      <th>7</th>\n",
              "      <td>1</td>\n",
              "      <td>0</td>\n",
              "      <td>0</td>\n",
              "    </tr>\n",
              "    <tr>\n",
              "      <th>8</th>\n",
              "      <td>1</td>\n",
              "      <td>0</td>\n",
              "      <td>0</td>\n",
              "    </tr>\n",
              "    <tr>\n",
              "      <th>9</th>\n",
              "      <td>1</td>\n",
              "      <td>0</td>\n",
              "      <td>0</td>\n",
              "    </tr>\n",
              "  </tbody>\n",
              "</table>\n",
              "</div>"
            ],
            "text/plain": [
              "   Type  Alcohol_flag  Sugar_flag\n",
              "0     1             0           0\n",
              "1     1             0           0\n",
              "2     1             0           0\n",
              "3     1             0           0\n",
              "4     1             0           0\n",
              "5     1             0           0\n",
              "6     1             0           0\n",
              "7     1             0           0\n",
              "8     1             0           0\n",
              "9     1             0           0"
            ]
          },
          "metadata": {
            "tags": []
          },
          "execution_count": 142
        }
      ]
    },
    {
      "cell_type": "code",
      "metadata": {
        "id": "UsbslYHLcFh1"
      },
      "source": [
        "X1 = test.drop(['Type'], axis =1)\n",
        "y1 = test['Type']\n",
        "\n"
      ],
      "execution_count": null,
      "outputs": []
    },
    {
      "cell_type": "code",
      "metadata": {
        "id": "LSVJxYI8RqZB"
      },
      "source": [
        "NB = GaussianNB()\n",
        "nb = NB.fit(X,y)\n",
        "y_predict = nb.predict\n"
      ],
      "execution_count": null,
      "outputs": []
    },
    {
      "cell_type": "code",
      "metadata": {
        "id": "mmWblH4SfDE5",
        "colab": {
          "base_uri": "https://localhost:8080/",
          "height": 77
        },
        "outputId": "82077ba6-ff63-42df-d4a1-4213b8042840"
      },
      "source": [
        "y_predict = pd.DataFrame(y_predict,index = y1.index, columns = ['Type'])\n",
        "y_predict['Type'].value_counts()"
      ],
      "execution_count": null,
      "outputs": [
        {
          "output_type": "execute_result",
          "data": {
            "text/plain": [
              "0    1203\n",
              "1    1142\n",
              "Name: Type, dtype: int64"
            ]
          },
          "metadata": {
            "tags": []
          },
          "execution_count": 112
        }
      ]
    },
    {
      "cell_type": "code",
      "metadata": {
        "id": "uLPVw1YEf4dD"
      },
      "source": [
        "dummy = DummyClassifier(strategy= 'uniform')\n",
        "dumb = dummy.fit(X,y)\n",
        "dumb_pred = dumb.predict(X1)\n",
        "dumb_pred_prob = dumb.predict_proba(X1)"
      ],
      "execution_count": null,
      "outputs": []
    },
    {
      "cell_type": "code",
      "metadata": {
        "id": "1R7WyNxVcYQa",
        "colab": {
          "base_uri": "https://localhost:8080/",
          "height": 77
        },
        "outputId": "5b266485-cd96-4aa8-cb54-61399a5a66c4"
      },
      "source": [
        "print(\"Test accuracy (naive bayes) =\", 100*nb.score(X1,y1), end=\"% \\n\\n\")\n",
        "print(\"Test accuracy (Dummy Classifier) =\", 100*dumb.score(dumb_pred,y1), end=\"%\")"
      ],
      "execution_count": null,
      "outputs": [
        {
          "output_type": "stream",
          "text": [
            "Test accuracy (naive bayes) = 65.9275053304904% \n",
            "\n",
            "Test accuracy (Dummy Classifier) = 50.83155650319829%"
          ],
          "name": "stdout"
        }
      ]
    },
    {
      "cell_type": "code",
      "metadata": {
        "id": "FY8mI-qZcenU",
        "colab": {
          "base_uri": "https://localhost:8080/",
          "height": 468
        },
        "outputId": "98ec865c-fe61-44d1-da2a-af2f94130334"
      },
      "source": [
        "cm_nb = confusion_matrix(y1, y_predict)\n",
        "#put it into a dataframe for seaborn plot function\n",
        "cm_nb_df = pd.DataFrame(cm_nb)\n",
        "\n",
        "#Use a seaborn heatmap to plot confusion matrices\n",
        "#The dataframe is transposed to make Actual values on x-axis and predicted on y-axis\n",
        "#annot = True includes the numbers in each box\n",
        "#vmin and vmax just adjusts the color value\n",
        "fig, ax = plt.subplots(figsize = (7,7))\n",
        "sns.heatmap(cm_nb_df.T, annot=True, annot_kws={\"size\": 15}, cmap=\"Oranges\", vmin=0, vmax=300, fmt='.0f', linewidths=1, linecolor=\"white\", cbar=False,\n",
        ")\n",
        "plt.ylabel(\"Predicted\", fontsize=15)\n",
        "plt.xlabel(\"Actual\", fontsize=15)\n",
        "ax.set_xticklabels(['white', 'red'], fontsize=13)\n",
        "ax.set_yticklabels(['white','red'], fontsize=13)\n",
        "plt.title(\"Confusion Matrix for 'Naive Bayes' method\", fontsize=15)\n",
        "\n",
        "plt.show()"
      ],
      "execution_count": null,
      "outputs": [
        {
          "output_type": "display_data",
          "data": {
            "image/png": "[encoded data removed]",
            "text/plain": [
              "<Figure size 504x504 with 1 Axes>"
            ]
          },
          "metadata": {
            "tags": []
          }
        }
      ]
    },
    {
      "cell_type": "markdown",
      "metadata": {
        "id": "82fOojbH-JuP"
      },
      "source": [
        "correctly classifies red wines: 464/(678+464) = 0.41\n",
        "\n",
        "correctly classifies white wines: 1082/ (121+1082) = 0.9"
      ]
    },
    {
      "cell_type": "code",
      "metadata": {
        "id": "cPeUyS-fxJMw"
      },
      "source": [
        "from sklearn.linear_model import LogisticRegression\n",
        "lr = LogisticRegression()\n",
        "X_lr = lr.fit(X, y)\n",
        "\n",
        "y_predictLR = X_lr.predict(X1cm_LR = confusion_matrix(y_test, y_predictLR)\n",
        "#put it into a dataframe for seaborn plot function\n",
        "cm_LR_df = pd.DataFrame(cm_LR)\n",
        "\n"
      ],
      "execution_count": null,
      "outputs": []
    },
    {
      "cell_type": "code",
      "metadata": {
        "id": "YF8xjwDbyMmy",
        "colab": {
          "base_uri": "https://localhost:8080/",
          "height": 465
        },
        "outputId": "11a77d73-d56c-4fa4-9d67-ecaff27e0cef"
      },
      "source": [
        "cm_LR = confusion_matrix(y1, y_predictLR)\n",
        "#put it into a dataframe for seaborn plot function\n",
        "cm_LR_df = pd.DataFrame(cm_LR)\n",
        "\n",
        "#Use a seaborn heatmap to plot confusion matrices\n",
        "#The dataframe is transposed to make Actual values on x-axis and predicted on y-axis\n",
        "#annot = True includes the numbers in each box\n",
        "#vmin and vmax just adjusts the color value\n",
        "fig, ax = plt.subplots(figsize = (7,7))\n",
        "sns.heatmap(cm_LR_df.T, annot=True, annot_kws={\"size\": 15}, cmap=\"Oranges\", vmin=0, vmax=800, fmt='.0f', linewidths=1, linecolor=\"white\", cbar=False,\n",
        ")\n",
        "plt.ylabel(\"Predicted\", fontsize=15)\n",
        "plt.xlabel(\"Actual\", fontsize=15)\n",
        "plt.title(\"Confusion Matrix for 'LR' Classifier - Counts\", fontsize=15)\n",
        "\n",
        "plt.show()"
      ],
      "execution_count": null,
      "outputs": [
        {
          "output_type": "display_data",
          "data": {
            "image/png": "[encoded data removed]",
            "text/plain": [
              "<Figure size 504x504 with 1 Axes>"
            ]
          },
          "metadata": {
            "tags": []
          }
        }
      ]
    }
  ]
}