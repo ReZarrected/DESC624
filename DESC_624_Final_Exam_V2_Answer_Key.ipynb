{
  "nbformat": 4,
  "nbformat_minor": 0,
  "metadata": {
    "colab": {
      "name": "DESC 624 Final Exam V2 Answer Key.ipynb",
      "provenance": []
    },
    "kernelspec": {
      "name": "python3",
      "display_name": "Python 3"
    }
  },
  "cells": [
    {
      "cell_type": "markdown",
      "metadata": {
        "id": "h8ecltzjEpge"
      },
      "source": [
        "For the following exercises, work with the cereals data set. A link to the raw data is here:\n",
        "\n",
        "https://raw.githubusercontent.com/ArashVafa/DESC624/master/cereals.CSV\n",
        "\n",
        "* Standardize or normalize the predictors Sugars, Fiber, and Potass.\n",
        "Construct the correlation matrix for Sugars, Fiber, and Potass. Which variables are highly correlated?\n",
        "* Build a regression model to estimate Rating based on Sugars, Fiber, and Potass. \n",
        "* Run PCA using three components. What percent of the variability is explained by one component? By two components? By all three components?\n",
        "* Say we want to explain at least 70% of the variability. How many components would you retain?\n",
        "* Run PCA using two components. What percent of the variability do the two components explain?\n",
        "* Use the two components as the predictor variables in a regression model to estimate Rating. What are the regression coefficients of the two components?"
      ]
    },
    {
      "cell_type": "markdown",
      "metadata": {
        "id": "YoqDJ5owEjSN"
      },
      "source": [
        "For the following exercises, work with the red_wine_PCA_training and red_wine_PCA_test data sets. A link to the raw data is here:\n",
        "\n",
        "red_wine_PCA_training: 'https://raw.githubusercontent.com/ArashVafa/DESC624/master/red_wine_PCA_training'\n",
        "\n",
        "red_wine_PCA_test: 'https://raw.githubusercontent.com/ArashVafa/DESC624/master/red_wine_PCA_test'\n",
        "\n",
        "The predictors are alcohol, residual sugar, pH, density, and fixed acidity.\n",
        "\n",
        "* Standardize or normalize the predictors.\n",
        "* Construct the correlation matrix for the predictors. Between which predictors do you find the highest correlations?\n",
        "* Build a regression model to estimate quality based on the predictors.\n",
        "* Perform PCA. What percent of the variability is explained by one component? By two components? By three components? By four components? By all five components?\n",
        "* Say we want to explain at least 90% of the variability. How many components does the proportion of variance explained criterion suggest we extract?\n",
        "* Combine the recommendations from the two criteria to reach a consensus as to how many components we should extract.\n",
        "* Produce the correlation matrix for the components. What do these values mean?\n",
        "* Next, use only the components you extracted to estimate wine quality using a regression model. Do not include the original predictors.\n",
        "* Compare the values of R^2s between the PCA regression and the original regression model.\n",
        "* Explain why the original model slightly outperformed the PCA model.\n",
        "* Explain how the PCA model may be considered superior, even though slightly outperformed?"
      ]
    },
    {
      "cell_type": "code",
      "metadata": {
        "id": "jYNu9Ek-FH6A"
      },
      "source": [
        "import numpy as np\n",
        "import matplotlib.pyplot as plt\n",
        "import seaborn as sns\n",
        "import pandas as pd\n",
        "import sklearn\n",
        "from sklearn import linear_model, dummy, metrics\n",
        "from sklearn.linear_model import LogisticRegression\n",
        "from sklearn.dummy import DummyClassifier\n",
        "from sklearn.model_selection import train_test_split\n",
        "from sklearn.metrics import *"
      ],
      "execution_count": null,
      "outputs": []
    },
    {
      "cell_type": "code",
      "metadata": {
        "id": "qVA__HKTFQGn"
      },
      "source": [
        "url = 'https://raw.githubusercontent.com/ArashVafa/DESC624/master/red_wine_PCA_training'\n",
        "df = pd.read_csv(url)\n",
        "df"
      ],
      "execution_count": null,
      "outputs": []
    },
    {
      "cell_type": "code",
      "metadata": {
        "id": "5w9Ph67sFQku"
      },
      "source": [
        "datatype = df.dtypes\n",
        "print(datatype)"
      ],
      "execution_count": null,
      "outputs": []
    },
    {
      "cell_type": "code",
      "metadata": {
        "id": "R-fzNsmEFSoq"
      },
      "source": [
        "testurl = 'https://raw.githubusercontent.com/ArashVafa/DESC624/master/red_wine_PCA_test'\n",
        "dftest = pd.read_csv(testurl)\n",
        "dftest"
      ],
      "execution_count": null,
      "outputs": []
    },
    {
      "cell_type": "code",
      "metadata": {
        "id": "hjlH7bmtFV0q"
      },
      "source": [
        "print(np.unique(df['type']))\n",
        "print(np.unique(df['quality']))"
      ],
      "execution_count": null,
      "outputs": []
    },
    {
      "cell_type": "code",
      "metadata": {
        "id": "2M1bdCpCFXlR"
      },
      "source": [
        "#Predictor\n",
        "X_train = df[['alcohol','density','fixed acidity','pH','residual sugar']]\n",
        "#Target\n",
        "y_train = df[['quality']]\n",
        "#Test\n",
        "X_test = dftest[['alcohol','density','fixed acidity','pH','residual sugar']]\n",
        "y_test = dftest[['quality']]"
      ],
      "execution_count": null,
      "outputs": []
    },
    {
      "cell_type": "code",
      "metadata": {
        "id": "RuQhbPfGFYbE"
      },
      "source": [
        "#Standardize or normalize the predictors. The predictors are alcohol, residual sugar, pH, density, and fixed acidity.\n",
        "from sklearn.preprocessing import StandardScaler\n",
        "X_train = StandardScaler().fit_transform(X_train)\n",
        "X_test = StandardScaler().fit_transform(X_test)"
      ],
      "execution_count": null,
      "outputs": []
    },
    {
      "cell_type": "code",
      "metadata": {
        "id": "VaEdVu3wFakZ"
      },
      "source": [
        "#Construct the correlation matrix for the predictors. Between which predictors do you find the highest correlations?\n",
        "correlation_matrix = df.corr().round(2)\n",
        "sns.heatmap(data=correlation_matrix, annot=True)"
      ],
      "execution_count": null,
      "outputs": []
    },
    {
      "cell_type": "code",
      "metadata": {
        "id": "2pTAwYJiFeoV"
      },
      "source": [
        "from sklearn.linear_model import LogisticRegression\n",
        "lr = LogisticRegression(solver='liblinear',fit_intercept=True)\n",
        "lr.fit(X_train, y_train)\n",
        "y_pred = lr.predict(X_test)"
      ],
      "execution_count": null,
      "outputs": []
    },
    {
      "cell_type": "code",
      "metadata": {
        "id": "6yANnoSMFfL1"
      },
      "source": [
        "print(\"Test accuracy (logistic regression) =\", 100*lr.score(X_test,y_test), end=\"% \\n\\n\")\n",
        "print('R2 score:', metrics.r2_score(y_test, y_pred))"
      ],
      "execution_count": null,
      "outputs": []
    },
    {
      "cell_type": "code",
      "metadata": {
        "id": "HZVUgNdWFhiD"
      },
      "source": [
        "#Perform PCA. What percent of the variability is explained by one component? By two components? By three components? By four components? By all five components?\n",
        "from sklearn.decomposition import PCA\n",
        "pca1 = PCA(n_components=1)\n",
        "principalComponents = pca1.fit_transform(X_train)\n",
        "principalDf = pd.DataFrame(data = principalComponents\n",
        "             , columns = ['principal component 1'])\n",
        "#one component\n",
        "pca1.explained_variance_ratio_.sum()"
      ],
      "execution_count": null,
      "outputs": []
    },
    {
      "cell_type": "code",
      "metadata": {
        "id": "Iw93KhPYFjqg"
      },
      "source": [
        "from sklearn.decomposition import PCA\n",
        "pca2 = PCA(n_components=2)\n",
        "principalComponents2 = pca2.fit_transform(X_train)\n",
        "principalDf2 = pd.DataFrame(data = principalComponents2\n",
        "             , columns = ['principal component 1','principal component 2'])\n",
        "#two component\n",
        "pca2.explained_variance_ratio_.sum()"
      ],
      "execution_count": null,
      "outputs": []
    },
    {
      "cell_type": "code",
      "metadata": {
        "id": "C5yt1VtSFnqm"
      },
      "source": [
        "finalDf2 = pd.concat([principalDf2, df[['quality']]], axis = 1)\n",
        "import matplotlib.pyplot as plt\n",
        "fig = plt.figure(figsize = (8,8))\n",
        "ax = fig.add_subplot(1,1,1) \n",
        "ax.set_xlabel('Principal Component 1', fontsize = 15)\n",
        "ax.set_ylabel('Principal Component 2', fontsize = 15)\n",
        "ax.set_title('2 component PCA', fontsize = 20)\n",
        "targets = [3, 4, 5, 6, 7, 8]\n",
        "colors = ['r', 'g', 'b','aqua','yellow','k']\n",
        "for target, color in zip(targets,colors):\n",
        "    indicesToKeep = finalDf2['quality'] == target\n",
        "    ax.scatter(finalDf2.loc[indicesToKeep, 'principal component 1']\n",
        "               , finalDf2.loc[indicesToKeep, 'principal component 2']\n",
        "               , c = color\n",
        "               , s = 50)\n",
        "ax.legend(targets)\n",
        "ax.grid()"
      ],
      "execution_count": null,
      "outputs": []
    },
    {
      "cell_type": "code",
      "metadata": {
        "id": "LlAGvLXLFoTM"
      },
      "source": [
        "from sklearn.decomposition import PCA\n",
        "pca3 = PCA(n_components=3)\n",
        "principalComponents = pca3.fit_transform(X_train)\n",
        "principalDf = pd.DataFrame(data = principalComponents\n",
        "             , columns = ['principal component 1','principal component 2','principal component 3'])\n",
        "#three component\n",
        "pca3.explained_variance_ratio_.sum()"
      ],
      "execution_count": null,
      "outputs": []
    },
    {
      "cell_type": "code",
      "metadata": {
        "id": "cJsIVY8qFr3k"
      },
      "source": [
        "from sklearn.decomposition import PCA\n",
        "pca4 = PCA(n_components=4)\n",
        "principalComponents = pca4.fit_transform(X_train)\n",
        "principalDf = pd.DataFrame(data = principalComponents\n",
        "             , columns = ['principal component 1','principal component 2','principal component 3','principal component 4'])\n",
        "#four component\n",
        "pca4.explained_variance_ratio_.sum()"
      ],
      "execution_count": null,
      "outputs": []
    },
    {
      "cell_type": "code",
      "metadata": {
        "id": "1LMIKWtrFv96"
      },
      "source": [
        "#Next, use only the components you extracted to estimate wine quality using a regression model. Do not include the original predictors.\n",
        "from sklearn.decomposition import PCA\n",
        "trainpca = PCA(n_components=3)\n",
        "X_pca_train = trainpca.fit_transform(X_train)\n",
        "\n",
        "testpca = PCA(n_components=3)\n",
        "X_pca_test = testpca.fit_transform(X_test)"
      ],
      "execution_count": null,
      "outputs": []
    },
    {
      "cell_type": "code",
      "metadata": {
        "id": "H6B972d3FwhC"
      },
      "source": [
        "from sklearn.linear_model import LogisticRegression\n",
        "lrpca = LogisticRegression(solver='liblinear',fit_intercept=True)\n",
        "lrpca.fit(X_pca_train, y_train)\n",
        "y_pca_pred = lrpca.predict(X_pca_test)"
      ],
      "execution_count": null,
      "outputs": []
    },
    {
      "cell_type": "code",
      "metadata": {
        "id": "S8Dg9owgFyjc"
      },
      "source": [
        "print(\"Test accuracy (pca logistic regression) =\", 100*lrpca.score(X_pca_test,y_test), end=\"% \\n\\n\")\n",
        "print('R2 score:', metrics.r2_score(y_test, y_pca_pred))"
      ],
      "execution_count": null,
      "outputs": []
    },
    {
      "cell_type": "code",
      "metadata": {
        "id": "eNtnPSmQF16P"
      },
      "source": [
        "#Compare the values of R^2s between the PCA regression and the original regression model.\n",
        "print(\"Test accuracy (original logistic regression) =\", 100*lr.score(X_test,y_test), end=\"% \\n\\n\")\n",
        "print('R2 score:', metrics.r2_score(y_test, y_pred))"
      ],
      "execution_count": null,
      "outputs": []
    }
  ]
}