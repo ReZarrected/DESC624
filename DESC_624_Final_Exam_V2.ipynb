{
  "nbformat": 4,
  "nbformat_minor": 0,
  "metadata": {
    "colab": {
      "name": "DESC 624 Final Exam V2.ipynb",
      "provenance": []
    },
    "kernelspec": {
      "name": "python3",
      "display_name": "Python 3"
    }
  },
  "cells": [
    {
      "cell_type": "markdown",
      "metadata": {
        "id": "h8ecltzjEpge"
      },
      "source": [
        "For the following exercises, work with the cereals data set. A link to the raw data is here:\n",
        "\n",
        "https://raw.githubusercontent.com/ArashVafa/DESC624/master/cereals.CSV\n",
        "\n",
        "* Standardize or normalize the predictors Sugars, Fiber, and Potass.\n",
        "Construct the correlation matrix for Sugars, Fiber, and Potass. Which variables are highly correlated?\n",
        "* Build a regression model to estimate Rating based on Sugars, Fiber, and Potass. \n",
        "* Run PCA using three components. What percent of the variability is explained by one component? By two components? By all three components?\n",
        "* Say we want to explain at least 70% of the variability. How many components would you retain?\n",
        "* Run PCA using two components. What percent of the variability do the two components explain?\n",
        "* Use the two components as the predictor variables in a regression model to estimate Rating. What are the regression coefficients of the two components?"
      ]
    },
    {
      "cell_type": "markdown",
      "metadata": {
        "id": "YoqDJ5owEjSN"
      },
      "source": [
        "For the following exercises, work with the red_wine_PCA_training and red_wine_PCA_test data sets. A link to the raw data is here:\n",
        "\n",
        "red_wine_PCA_training: 'https://raw.githubusercontent.com/ArashVafa/DESC624/master/red_wine_PCA_training'\n",
        "\n",
        "red_wine_PCA_test: 'https://raw.githubusercontent.com/ArashVafa/DESC624/master/red_wine_PCA_test'\n",
        "\n",
        "The predictors are alcohol, residual sugar, pH, density, and fixed acidity.\n",
        "\n",
        "* Standardize or normalize the predictors.\n",
        "* Construct the correlation matrix for the predictors. Between which predictors do you find the highest correlations?\n",
        "* Build a regression model to estimate quality based on the predictors.\n",
        "* Perform PCA. What percent of the variability is explained by one component? By two components? By three components? By four components? By all five components?\n",
        "* Say we want to explain at least 90% of the variability. How many components does the proportion of variance explained criterion suggest we extract?\n",
        "* Combine the recommendations from the two criteria to reach a consensus as to how many components we should extract.\n",
        "* Produce the correlation matrix for the components. What do these values mean?\n",
        "* Next, use only the components you extracted to estimate wine quality using a regression model. Do not include the original predictors.\n",
        "* Compare the values of R^2s between the PCA regression and the original regression model.\n",
        "* Explain why the original model slightly outperformed the PCA model.\n",
        "* Explain how the PCA model may be considered superior, even though slightly outperformed?"
      ]
    }
  ]
}